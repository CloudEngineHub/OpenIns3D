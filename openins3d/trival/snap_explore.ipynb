{
 "cells": [
  {
   "cell_type": "markdown",
   "metadata": {},
   "source": [
    "# Snap module\n",
    "\n",
    "This notebook showcase how snap module is performed and how the occulsion report (display rate of all mask in each image) is calculated"
   ]
  },
  {
   "cell_type": "code",
   "execution_count": 2,
   "metadata": {},
   "outputs": [
    {
     "name": "stdout",
     "output_type": "stream",
     "text": [
      "/scratch/OpenIns3D\n"
     ]
    }
   ],
   "source": [
    "import os\n",
    "os.chdir(\"../../\")\n",
    "print(os.getcwd())\n",
    "# note: make sure this should be in the OpenIns3D main directory"
   ]
  },
  {
   "cell_type": "code",
   "execution_count": 4,
   "metadata": {},
   "outputs": [],
   "source": [
    "import sys\n",
    "sys.path.append(\"./openins3d\")"
   ]
  },
  {
   "cell_type": "code",
   "execution_count": 5,
   "metadata": {},
   "outputs": [],
   "source": [
    "from openins3d.snap import Snap\n",
    "import matplotlib.pyplot as plt\n",
    "import matplotlib.image as mpimg\n",
    "import torch\n",
    "from openins3d.utils import mask_rasterization, read_plymesh, display_snap_image\n",
    "from glob import glob\n",
    "import numpy as np\n",
    "\n",
    "# load 3d scene and masks\n",
    "\n",
    "mesh_path = \"data/replica/scenes/office4.ply\"\n",
    "mask_path = \"data/replica/masks/ground_truth/office4.pt\"\n",
    "scan_pc = read_plymesh(mesh_path)[0]\n",
    "mask_list = torch.load(mask_path).to_dense()\n",
    "scan_pc = torch.tensor(scan_pc)\n",
    "\n",
    "image_width = 1000\n",
    "image_height = 1000\n",
    "# Camera adjustment parameters\n",
    "lift_cam = 3  # Vertical lift of the camera (increase to lift the camera higher)\n",
    "zoomout = 0.1  # Zoom out factor to view the scene with a wider angle\n",
    "remove_lip = 1.0  # Distance to remove the ceiling or upper part of the scene for better visibility, if needed\n",
    "adjust_camera = [lift_cam, zoomout, remove_lip]\n",
    "image_size = [image_width, image_height]\n",
    "snap_module = Snap(image_size, adjust_camera, save_folder=\"output/snap\")\n",
    "mode_all = [\"corner\", \"global\", \"wide\"]"
   ]
  },
  {
   "cell_type": "markdown",
   "metadata": {},
   "source": [
    "# Render Images with Snap Module"
   ]
  },
  {
   "cell_type": "code",
   "execution_count": null,
   "metadata": {},
   "outputs": [],
   "source": [
    "# Note: This could take a while and generated images are saved under the folder \"output/snap\"\n",
    "mode_selected = mode_all[0] # 0: corner, 1: global, 2: wide\n",
    "# start to render images\n",
    "for mode_selected in mode_all:\n",
    "        _,_ =snap_module.scene_image_rendering(mesh_path, mode_selected, mode=[mode_selected])\n",
    "print(\"saved all images\")"
   ]
  },
  {
   "cell_type": "code",
   "execution_count": null,
   "metadata": {},
   "outputs": [],
   "source": [
    "# display image \n",
    "# feel free to change mode to see the images or you can go to the \"output/snap\" to see the images\n",
    "mode_selected = mode_all[1] # 0: corner, 1: global, 2: wide\n",
    "snap_image_path = f\"output/snap/{mode_selected}/image\"\n",
    "display_snap_image(snap_image_path, size=(250, 250))"
   ]
  },
  {
   "cell_type": "code",
   "execution_count": null,
   "metadata": {},
   "outputs": [],
   "source": [
    "# colorcoded masks and render images\n",
    "# Note: This could take a while and generated images are saved under the folder \"output/snap\"\n",
    "# start to render images\n",
    "for mode_selected in mode_all:\n",
    "    _,_ =snap_module.scene_image_rendering(mesh_path, f\"{mode_selected}_withmasks\", mode=[mode_selected], mask=[mask_list, None])"
   ]
  },
  {
   "cell_type": "code",
   "execution_count": null,
   "metadata": {},
   "outputs": [],
   "source": [
    "# display image, feel free to change mode.\n",
    "\n",
    "mode_selected = mode_all[1] # 0: corner, 1: global, 2: wide\n",
    "snap_image_path = f\"output/snap/{mode_selected}_withmasks/image\"\n",
    "display_snap_image(snap_image_path, size=(50, 50))"
   ]
  },
  {
   "cell_type": "markdown",
   "metadata": {},
   "source": [
    "# Calculate Display Rate for each masks.\n",
    "\n",
    "Here the display rate of each masks are calculate for each image. Results are saved under 'output/snap'"
   ]
  },
  {
   "cell_type": "code",
   "execution_count": null,
   "metadata": {},
   "outputs": [],
   "source": [
    "# calculate the display rate and save it under the folder \"output/snap\"\n",
    "for mode_selected in mode_all:\n",
    "    display_rate = snap_module.mask_rasterization_display_rate(scan_pc, mode_selected, [mask_list, None])\n",
    "    strings = [list(map(str, np.round(display_rate.cpu().numpy(), 2).flatten())) for display_rate in display_rate]\n",
    "    _, _ = snap_module.scene_image_rendering(mesh_path, f\"{mode_selected}_display_rate\", mode=[mode_selected], mask=[mask_list, strings])"
   ]
  },
  {
   "cell_type": "code",
   "execution_count": null,
   "metadata": {},
   "outputs": [],
   "source": [
    "# display image \n",
    "mode_selected = mode_all[0] # 0: corner, 1: global, 2: wide\n",
    "snap_image_path = f\"output/snap/{mode_selected}_display_rate/image\"\n",
    "display_snap_image(snap_image_path, size=(50, 50))"
   ]
  }
 ],
 "metadata": {
  "kernelspec": {
   "display_name": "openins3d",
   "language": "python",
   "name": "python3"
  },
  "language_info": {
   "codemirror_mode": {
    "name": "ipython",
    "version": 3
   },
   "file_extension": ".py",
   "mimetype": "text/x-python",
   "name": "python",
   "nbconvert_exporter": "python",
   "pygments_lexer": "ipython3",
   "version": "3.9.19"
  }
 },
 "nbformat": 4,
 "nbformat_minor": 2
}
